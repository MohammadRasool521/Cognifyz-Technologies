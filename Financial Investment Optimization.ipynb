{
 "cells": [
  {
   "cell_type": "markdown",
   "metadata": {},
   "source": [
    "# **Financial-Investment-Optimization**"
   ]
  },
  {
   "cell_type": "code",
   "execution_count": 4,
   "metadata": {},
   "outputs": [],
   "source": [
    "# Importing important modules and libraries\n",
    "import pandas as pd\n",
    "import numpy as np\n",
    "import matplotlib.pyplot as plt\n",
    "import seaborn as sns"
   ]
  },
  {
   "cell_type": "markdown",
   "metadata": {},
   "source": [
    "## **Task 1: Dataset Structure Overview**\n",
    "---\n",
    "**Load the dataset:** Import the dataset into a data analysis tool such as Python with pandas or spreadsheet software."
   ]
  },
  {
   "cell_type": "code",
   "execution_count": 7,
   "metadata": {},
   "outputs": [
    {
     "data": {
      "text/html": [
       "<div>\n",
       "<style scoped>\n",
       "    .dataframe tbody tr th:only-of-type {\n",
       "        vertical-align: middle;\n",
       "    }\n",
       "\n",
       "    .dataframe tbody tr th {\n",
       "        vertical-align: top;\n",
       "    }\n",
       "\n",
       "    .dataframe thead th {\n",
       "        text-align: right;\n",
       "    }\n",
       "</style>\n",
       "<table border=\"1\" class=\"dataframe\">\n",
       "  <thead>\n",
       "    <tr style=\"text-align: right;\">\n",
       "      <th></th>\n",
       "      <th>gender</th>\n",
       "      <th>age</th>\n",
       "      <th>Investment_Avenues</th>\n",
       "      <th>Mutual_Funds</th>\n",
       "      <th>Equity_Market</th>\n",
       "      <th>Debentures</th>\n",
       "      <th>Government_Bonds</th>\n",
       "      <th>Fixed_Deposits</th>\n",
       "      <th>PPF</th>\n",
       "      <th>Gold</th>\n",
       "      <th>...</th>\n",
       "      <th>Duration</th>\n",
       "      <th>Invest_Monitor</th>\n",
       "      <th>Expect</th>\n",
       "      <th>Avenue</th>\n",
       "      <th>What are your savings objectives?</th>\n",
       "      <th>Reason_Equity</th>\n",
       "      <th>Reason_Mutual</th>\n",
       "      <th>Reason_Bonds</th>\n",
       "      <th>Reason_FD</th>\n",
       "      <th>Source</th>\n",
       "    </tr>\n",
       "  </thead>\n",
       "  <tbody>\n",
       "    <tr>\n",
       "      <th>0</th>\n",
       "      <td>Female</td>\n",
       "      <td>34</td>\n",
       "      <td>Yes</td>\n",
       "      <td>1</td>\n",
       "      <td>2</td>\n",
       "      <td>5</td>\n",
       "      <td>3</td>\n",
       "      <td>7</td>\n",
       "      <td>6</td>\n",
       "      <td>4</td>\n",
       "      <td>...</td>\n",
       "      <td>1-3 years</td>\n",
       "      <td>Monthly</td>\n",
       "      <td>20%-30%</td>\n",
       "      <td>Mutual Fund</td>\n",
       "      <td>Retirement Plan</td>\n",
       "      <td>Capital Appreciation</td>\n",
       "      <td>Better Returns</td>\n",
       "      <td>Safe Investment</td>\n",
       "      <td>Fixed Returns</td>\n",
       "      <td>Newspapers and Magazines</td>\n",
       "    </tr>\n",
       "    <tr>\n",
       "      <th>1</th>\n",
       "      <td>Female</td>\n",
       "      <td>23</td>\n",
       "      <td>Yes</td>\n",
       "      <td>4</td>\n",
       "      <td>3</td>\n",
       "      <td>2</td>\n",
       "      <td>1</td>\n",
       "      <td>5</td>\n",
       "      <td>6</td>\n",
       "      <td>7</td>\n",
       "      <td>...</td>\n",
       "      <td>More than 5 years</td>\n",
       "      <td>Weekly</td>\n",
       "      <td>20%-30%</td>\n",
       "      <td>Mutual Fund</td>\n",
       "      <td>Health Care</td>\n",
       "      <td>Dividend</td>\n",
       "      <td>Better Returns</td>\n",
       "      <td>Safe Investment</td>\n",
       "      <td>High Interest Rates</td>\n",
       "      <td>Financial Consultants</td>\n",
       "    </tr>\n",
       "    <tr>\n",
       "      <th>2</th>\n",
       "      <td>Male</td>\n",
       "      <td>30</td>\n",
       "      <td>Yes</td>\n",
       "      <td>3</td>\n",
       "      <td>6</td>\n",
       "      <td>4</td>\n",
       "      <td>2</td>\n",
       "      <td>5</td>\n",
       "      <td>1</td>\n",
       "      <td>7</td>\n",
       "      <td>...</td>\n",
       "      <td>3-5 years</td>\n",
       "      <td>Daily</td>\n",
       "      <td>20%-30%</td>\n",
       "      <td>Equity</td>\n",
       "      <td>Retirement Plan</td>\n",
       "      <td>Capital Appreciation</td>\n",
       "      <td>Tax Benefits</td>\n",
       "      <td>Assured Returns</td>\n",
       "      <td>Fixed Returns</td>\n",
       "      <td>Television</td>\n",
       "    </tr>\n",
       "    <tr>\n",
       "      <th>3</th>\n",
       "      <td>Male</td>\n",
       "      <td>22</td>\n",
       "      <td>Yes</td>\n",
       "      <td>2</td>\n",
       "      <td>1</td>\n",
       "      <td>3</td>\n",
       "      <td>7</td>\n",
       "      <td>6</td>\n",
       "      <td>4</td>\n",
       "      <td>5</td>\n",
       "      <td>...</td>\n",
       "      <td>Less than 1 year</td>\n",
       "      <td>Daily</td>\n",
       "      <td>10%-20%</td>\n",
       "      <td>Equity</td>\n",
       "      <td>Retirement Plan</td>\n",
       "      <td>Dividend</td>\n",
       "      <td>Fund Diversification</td>\n",
       "      <td>Tax Incentives</td>\n",
       "      <td>High Interest Rates</td>\n",
       "      <td>Internet</td>\n",
       "    </tr>\n",
       "    <tr>\n",
       "      <th>4</th>\n",
       "      <td>Female</td>\n",
       "      <td>24</td>\n",
       "      <td>No</td>\n",
       "      <td>2</td>\n",
       "      <td>1</td>\n",
       "      <td>3</td>\n",
       "      <td>6</td>\n",
       "      <td>4</td>\n",
       "      <td>5</td>\n",
       "      <td>7</td>\n",
       "      <td>...</td>\n",
       "      <td>Less than 1 year</td>\n",
       "      <td>Daily</td>\n",
       "      <td>20%-30%</td>\n",
       "      <td>Equity</td>\n",
       "      <td>Retirement Plan</td>\n",
       "      <td>Capital Appreciation</td>\n",
       "      <td>Better Returns</td>\n",
       "      <td>Safe Investment</td>\n",
       "      <td>Risk Free</td>\n",
       "      <td>Internet</td>\n",
       "    </tr>\n",
       "  </tbody>\n",
       "</table>\n",
       "<p>5 rows × 24 columns</p>\n",
       "</div>"
      ],
      "text/plain": [
       "   gender  age Investment_Avenues  Mutual_Funds  Equity_Market  Debentures  \\\n",
       "0  Female   34                Yes             1              2           5   \n",
       "1  Female   23                Yes             4              3           2   \n",
       "2    Male   30                Yes             3              6           4   \n",
       "3    Male   22                Yes             2              1           3   \n",
       "4  Female   24                 No             2              1           3   \n",
       "\n",
       "   Government_Bonds  Fixed_Deposits  PPF  Gold  ...           Duration  \\\n",
       "0                 3               7    6     4  ...          1-3 years   \n",
       "1                 1               5    6     7  ...  More than 5 years   \n",
       "2                 2               5    1     7  ...          3-5 years   \n",
       "3                 7               6    4     5  ...   Less than 1 year   \n",
       "4                 6               4    5     7  ...   Less than 1 year   \n",
       "\n",
       "  Invest_Monitor   Expect       Avenue What are your savings objectives?  \\\n",
       "0        Monthly  20%-30%  Mutual Fund                   Retirement Plan   \n",
       "1         Weekly  20%-30%  Mutual Fund                       Health Care   \n",
       "2          Daily  20%-30%       Equity                   Retirement Plan   \n",
       "3          Daily  10%-20%       Equity                   Retirement Plan   \n",
       "4          Daily  20%-30%       Equity                   Retirement Plan   \n",
       "\n",
       "          Reason_Equity         Reason_Mutual     Reason_Bonds  \\\n",
       "0  Capital Appreciation        Better Returns  Safe Investment   \n",
       "1              Dividend        Better Returns  Safe Investment   \n",
       "2  Capital Appreciation          Tax Benefits  Assured Returns   \n",
       "3              Dividend  Fund Diversification   Tax Incentives   \n",
       "4  Capital Appreciation        Better Returns  Safe Investment   \n",
       "\n",
       "             Reason_FD                    Source  \n",
       "0        Fixed Returns  Newspapers and Magazines  \n",
       "1  High Interest Rates     Financial Consultants  \n",
       "2        Fixed Returns                Television  \n",
       "3  High Interest Rates                  Internet  \n",
       "4            Risk Free                  Internet  \n",
       "\n",
       "[5 rows x 24 columns]"
      ]
     },
     "execution_count": 7,
     "metadata": {},
     "output_type": "execute_result"
    }
   ],
   "source": [
    "# Loading data\n",
    "df = pd.read_csv(\"C:\\\\Cognifyz\\\\Data_set 2 - Copy.csv\")\n",
    "df.head()"
   ]
  },
  {
   "cell_type": "markdown",
   "metadata": {},
   "source": [
    "**Descriptive Statistics:** Use descriptive functions (e.g., info() in pandas) to gather information about the number of entries, columns, and data types."
   ]
  },
  {
   "cell_type": "code",
   "execution_count": 14,
   "metadata": {},
   "outputs": [
    {
     "data": {
      "text/plain": [
       "(40, 24)"
      ]
     },
     "execution_count": 14,
     "metadata": {},
     "output_type": "execute_result"
    }
   ],
   "source": [
    "df.shape"
   ]
  },
  {
   "cell_type": "code",
   "execution_count": 11,
   "metadata": {},
   "outputs": [
    {
     "name": "stdout",
     "output_type": "stream",
     "text": [
      "<class 'pandas.core.frame.DataFrame'>\n",
      "RangeIndex: 40 entries, 0 to 39\n",
      "Data columns (total 24 columns):\n",
      " #   Column                             Non-Null Count  Dtype \n",
      "---  ------                             --------------  ----- \n",
      " 0   gender                             40 non-null     object\n",
      " 1   age                                40 non-null     int64 \n",
      " 2   Investment_Avenues                 40 non-null     object\n",
      " 3   Mutual_Funds                       40 non-null     int64 \n",
      " 4   Equity_Market                      40 non-null     int64 \n",
      " 5   Debentures                         40 non-null     int64 \n",
      " 6   Government_Bonds                   40 non-null     int64 \n",
      " 7   Fixed_Deposits                     40 non-null     int64 \n",
      " 8   PPF                                40 non-null     int64 \n",
      " 9   Gold                               40 non-null     int64 \n",
      " 10  Stock_Marktet                      40 non-null     object\n",
      " 11  Factor                             40 non-null     object\n",
      " 12  Objective                          40 non-null     object\n",
      " 13  Purpose                            40 non-null     object\n",
      " 14  Duration                           40 non-null     object\n",
      " 15  Invest_Monitor                     40 non-null     object\n",
      " 16  Expect                             40 non-null     object\n",
      " 17  Avenue                             40 non-null     object\n",
      " 18  What are your savings objectives?  40 non-null     object\n",
      " 19  Reason_Equity                      40 non-null     object\n",
      " 20  Reason_Mutual                      40 non-null     object\n",
      " 21  Reason_Bonds                       40 non-null     object\n",
      " 22  Reason_FD                          40 non-null     object\n",
      " 23  Source                             40 non-null     object\n",
      "dtypes: int64(8), object(16)\n",
      "memory usage: 7.6+ KB\n"
     ]
    }
   ],
   "source": [
    "dataset_info = df.info()"
   ]
  },
  {
   "cell_type": "code",
   "execution_count": 12,
   "metadata": {},
   "outputs": [],
   "source": [
    "numerical_summary = df.describe()"
   ]
  },
  {
   "cell_type": "code",
   "execution_count": 13,
   "metadata": {},
   "outputs": [
    {
     "data": {
      "text/plain": [
       "(None,\n",
       "              age  Mutual_Funds  Equity_Market  Debentures  Government_Bonds  \\\n",
       " count  40.000000     40.000000      40.000000   40.000000         40.000000   \n",
       " mean   27.800000      2.550000       3.475000    5.750000          4.650000   \n",
       " std     3.560467      1.197219       1.131994    1.675617          1.369072   \n",
       " min    21.000000      1.000000       1.000000    1.000000          1.000000   \n",
       " 25%    25.750000      2.000000       3.000000    5.000000          4.000000   \n",
       " 50%    27.000000      2.000000       4.000000    6.500000          5.000000   \n",
       " 75%    30.000000      3.000000       4.000000    7.000000          5.000000   \n",
       " max    35.000000      7.000000       6.000000    7.000000          7.000000   \n",
       " \n",
       "        Fixed_Deposits        PPF       Gold  \n",
       " count       40.000000  40.000000  40.000000  \n",
       " mean         3.575000   2.025000   5.975000  \n",
       " std          1.795828   1.609069   1.143263  \n",
       " min          1.000000   1.000000   2.000000  \n",
       " 25%          2.750000   1.000000   6.000000  \n",
       " 50%          3.500000   1.000000   6.000000  \n",
       " 75%          5.000000   2.250000   7.000000  \n",
       " max          7.000000   6.000000   7.000000  )"
      ]
     },
     "execution_count": 13,
     "metadata": {},
     "output_type": "execute_result"
    }
   ],
   "source": [
    "dataset_info, numerical_summary"
   ]
  },
  {
   "cell_type": "markdown",
   "metadata": {},
   "source": [
    "## **Task 2 - Visualize Gender Distribution**\n",
    "---\n",
    "**Extract Gender Information:** Identify and extract the gender column from the dataset."
   ]
  },
  {
   "cell_type": "code",
   "execution_count": 15,
   "metadata": {},
   "outputs": [
    {
     "data": {
      "text/plain": [
       "0    Female\n",
       "1    Female\n",
       "2      Male\n",
       "3      Male\n",
       "4    Female\n",
       "Name: gender, dtype: object"
      ]
     },
     "execution_count": 15,
     "metadata": {},
     "output_type": "execute_result"
    }
   ],
   "source": [
    "gender_column = df['gender']\n",
    "gender_column.head()"
   ]
  },
  {
   "cell_type": "markdown",
   "metadata": {},
   "source": [
    "**Visualization:** Create a simple visualization, such as a bar chart or pie chart, to represent the distribution of genders in the dataset."
   ]
  },
  {
   "cell_type": "code",
   "execution_count": 31,
   "metadata": {},
   "outputs": [
    {
     "data": {
      "image/png": "[encoded data removed]",
      "text/plain": [
       "<Figure size 600x500 with 1 Axes>"
      ]
     },
     "metadata": {},
     "output_type": "display_data"
    }
   ],
   "source": [
    "import matplotlib.pyplot as plt\n",
    "import seaborn as sns\n",
    "\n",
    "gender_counts = df['gender'].value_counts()\n",
    "plt.figure(figsize=(6, 5))\n",
    "sns.barplot(x=gender_counts.index, y=gender_counts.values)\n",
    "plt.title('Gender Distribution in the Dataset')\n",
    "plt.xlabel('Gender')\n",
    "plt.ylabel('Count')\n",
    "plt.show()"
   ]
  },
  {
   "cell_type": "markdown",
   "metadata": {},
   "source": [
    "## **Task 3 : Descriptive Statistics**\n",
    "---\n",
    "**Identify Numerical Columns:** Review the dataset to identify columns containing numerical data (e.g., age, income)."
   ]
  },
  {
   "cell_type": "code",
   "execution_count": 32,
   "metadata": {},
   "outputs": [
    {
     "name": "stdout",
     "output_type": "stream",
     "text": [
      "Numerical Columns:\n",
      "Index(['age', 'Mutual_Funds', 'Equity_Market', 'Debentures',\n",
      "       'Government_Bonds', 'Fixed_Deposits', 'PPF', 'Gold'],\n",
      "      dtype='object')\n"
     ]
    }
   ],
   "source": [
    "numerical_columns = df.select_dtypes(include=['number']).columns\n",
    "print(\"Numerical Columns:\")\n",
    "print(numerical_columns)"
   ]
  },
  {
   "cell_type": "markdown",
   "metadata": {},
   "source": [
    "**Calculations:** Use statistical functions (e.g., mean(), median(), std()) to calculate the mean, median, and standard deviation for each numerical column."
   ]
  },
  {
   "cell_type": "code",
   "execution_count": 33,
   "metadata": {},
   "outputs": [
    {
     "data": {
      "text/html": [
       "<div>\n",
       "<style scoped>\n",
       "    .dataframe tbody tr th:only-of-type {\n",
       "        vertical-align: middle;\n",
       "    }\n",
       "\n",
       "    .dataframe tbody tr th {\n",
       "        vertical-align: top;\n",
       "    }\n",
       "\n",
       "    .dataframe thead th {\n",
       "        text-align: right;\n",
       "    }\n",
       "</style>\n",
       "<table border=\"1\" class=\"dataframe\">\n",
       "  <thead>\n",
       "    <tr style=\"text-align: right;\">\n",
       "      <th></th>\n",
       "      <th>age</th>\n",
       "      <th>Mutual_Funds</th>\n",
       "      <th>Equity_Market</th>\n",
       "      <th>Debentures</th>\n",
       "      <th>Government_Bonds</th>\n",
       "      <th>Fixed_Deposits</th>\n",
       "      <th>PPF</th>\n",
       "      <th>Gold</th>\n",
       "    </tr>\n",
       "  </thead>\n",
       "  <tbody>\n",
       "    <tr>\n",
       "      <th>mean</th>\n",
       "      <td>27.800000</td>\n",
       "      <td>2.550000</td>\n",
       "      <td>3.475000</td>\n",
       "      <td>5.750000</td>\n",
       "      <td>4.650000</td>\n",
       "      <td>3.575000</td>\n",
       "      <td>2.025000</td>\n",
       "      <td>5.975000</td>\n",
       "    </tr>\n",
       "    <tr>\n",
       "      <th>median</th>\n",
       "      <td>27.000000</td>\n",
       "      <td>2.000000</td>\n",
       "      <td>4.000000</td>\n",
       "      <td>6.500000</td>\n",
       "      <td>5.000000</td>\n",
       "      <td>3.500000</td>\n",
       "      <td>1.000000</td>\n",
       "      <td>6.000000</td>\n",
       "    </tr>\n",
       "    <tr>\n",
       "      <th>std</th>\n",
       "      <td>3.560467</td>\n",
       "      <td>1.197219</td>\n",
       "      <td>1.131994</td>\n",
       "      <td>1.675617</td>\n",
       "      <td>1.369072</td>\n",
       "      <td>1.795828</td>\n",
       "      <td>1.609069</td>\n",
       "      <td>1.143263</td>\n",
       "    </tr>\n",
       "  </tbody>\n",
       "</table>\n",
       "</div>"
      ],
      "text/plain": [
       "              age  Mutual_Funds  Equity_Market  Debentures  Government_Bonds  \\\n",
       "mean    27.800000      2.550000       3.475000    5.750000          4.650000   \n",
       "median  27.000000      2.000000       4.000000    6.500000          5.000000   \n",
       "std      3.560467      1.197219       1.131994    1.675617          1.369072   \n",
       "\n",
       "        Fixed_Deposits       PPF      Gold  \n",
       "mean          3.575000  2.025000  5.975000  \n",
       "median        3.500000  1.000000  6.000000  \n",
       "std           1.795828  1.609069  1.143263  "
      ]
     },
     "execution_count": 33,
     "metadata": {},
     "output_type": "execute_result"
    }
   ],
   "source": [
    "numerical_stats = df.select_dtypes(include=['int64']).agg(['mean', 'median', 'std'])\n",
    "numerical_stats"
   ]
  },
  {
   "cell_type": "markdown",
   "metadata": {},
   "source": [
    "## **Task 4: Most Preferred Investment Avenue**\n",
    "---\n",
    "**Analyze Investment Avenues:** Examine the column containing information about different investment avenues (e.g., equity, mutual funds)."
   ]
  },
  {
   "cell_type": "code",
   "execution_count": 34,
   "metadata": {},
   "outputs": [
    {
     "name": "stdout",
     "output_type": "stream",
     "text": [
      "Avenue\n",
      "Mutual Fund              18\n",
      "Equity                   10\n",
      "Fixed Deposits            9\n",
      "Public Provident Fund     3\n",
      "Name: count, dtype: int64\n"
     ]
    }
   ],
   "source": [
    "preferred_avenue_counts = df['Avenue'].value_counts()\n",
    "print(preferred_avenue_counts)"
   ]
  },
  {
   "cell_type": "markdown",
   "metadata": {},
   "source": [
    "**Frequency Analysis:** Determine the investment avenue with the highest frequency or occurrence."
   ]
  },
  {
   "cell_type": "code",
   "execution_count": 35,
   "metadata": {},
   "outputs": [
    {
     "name": "stdout",
     "output_type": "stream",
     "text": [
      "Most Preferred Investment Avenue: Mutual Fund\n",
      "Frequency: 18\n"
     ]
    }
   ],
   "source": [
    "most_preferred_avenue = preferred_avenue_counts.idxmax()\n",
    "highest_frequency = preferred_avenue_counts.max()\n",
    "print(\"Most Preferred Investment Avenue:\", most_preferred_avenue)\n",
    "print(\"Frequency:\", highest_frequency)"
   ]
  },
  {
   "cell_type": "markdown",
   "metadata": {},
   "source": [
    "## **Task 5: Reasons for Investment**\n",
    "---\n",
    "**Explore Reasons Column:** Investigate the column where participants provided reasons for their investment choices."
   ]
  },
  {
   "cell_type": "code",
   "execution_count": 36,
   "metadata": {},
   "outputs": [
    {
     "name": "stdout",
     "output_type": "stream",
     "text": [
      "Reasons Columns:  ['Reason_Equity', 'Reason_Mutual', 'Reason_Bonds', 'Reason_FD']\n"
     ]
    }
   ],
   "source": [
    "reasons_columns = ['Reason_Equity', 'Reason_Mutual', 'Reason_Bonds', 'Reason_FD']\n",
    "print(\"Reasons Columns: \", reasons_columns)"
   ]
  },
  {
   "cell_type": "markdown",
   "metadata": {},
   "source": [
    "**Summarize Reasons:** Identify common themes or recurring reasons and provide a summary."
   ]
  },
  {
   "cell_type": "code",
   "execution_count": 37,
   "metadata": {},
   "outputs": [
    {
     "name": "stdout",
     "output_type": "stream",
     "text": [
      "Summary of Reasons for Investment Choices:\n",
      "Capital Appreciation    30\n",
      "Assured Returns         26\n",
      "Better Returns          24\n",
      "Risk Free               19\n",
      "Fixed Returns           18\n",
      "Fund Diversification    13\n",
      "Safe Investment         13\n",
      "Dividend                 8\n",
      "High Interest Rates      3\n",
      "Tax Benefits             3\n",
      "Name: count, dtype: int64\n"
     ]
    }
   ],
   "source": [
    "all_reasons = pd.concat([df[col] for col in reasons_columns])\n",
    "reason_counts = all_reasons.value_counts()\n",
    "print(\"Summary of Reasons for Investment Choices:\")\n",
    "print(reason_counts.head(10))"
   ]
  },
  {
   "cell_type": "markdown",
   "metadata": {},
   "source": [
    "## **Task 6: Savings Objectives**\n",
    "---\n",
    "**Analyze Savings Objectives:** Examine the column containing information about participants' savings objectives."
   ]
  },
  {
   "cell_type": "code",
   "execution_count": 38,
   "metadata": {},
   "outputs": [
    {
     "name": "stdout",
     "output_type": "stream",
     "text": [
      "Savings Objectives Column: What are your savings objectives?\n"
     ]
    }
   ],
   "source": [
    "savings_objectives_column = 'What are your savings objectives?'\n",
    "print(\"Savings Objectives Column:\", savings_objectives_column)"
   ]
  },
  {
   "cell_type": "markdown",
   "metadata": {},
   "source": [
    "**List and Describe Objectives:** Create a list and describe the main savings objectives mentioned by participants."
   ]
  },
  {
   "cell_type": "code",
   "execution_count": 39,
   "metadata": {},
   "outputs": [
    {
     "name": "stdout",
     "output_type": "stream",
     "text": [
      "List of Savings Objectives and Their Frequencies:\n",
      "What are your savings objectives?\n",
      "Retirement Plan    24\n",
      "Health Care        13\n",
      "Education           3\n",
      "Name: count, dtype: int64\n"
     ]
    }
   ],
   "source": [
    "savings_objectives_counts = df[savings_objectives_column].value_counts()\n",
    "print(\"List of Savings Objectives and Their Frequencies:\")\n",
    "print(savings_objectives_counts)"
   ]
  },
  {
   "cell_type": "markdown",
   "metadata": {},
   "source": [
    "## **Task 7: Common Information Sources**\n",
    "---\n",
    "**Explore Information Sources Column:** Review the column where participants indicated their sources of investment information."
   ]
  },
  {
   "cell_type": "code",
   "execution_count": 40,
   "metadata": {},
   "outputs": [
    {
     "name": "stdout",
     "output_type": "stream",
     "text": [
      "Information Sources Column: Source\n"
     ]
    }
   ],
   "source": [
    "information_sources_column = 'Source'\n",
    "print(\"Information Sources Column:\", information_sources_column)"
   ]
  },
  {
   "cell_type": "markdown",
   "metadata": {},
   "source": [
    "**Identify Common Sources:** Analyze the data to identify and summarize the most common sources participants rely on."
   ]
  },
  {
   "cell_type": "code",
   "execution_count": 41,
   "metadata": {},
   "outputs": [
    {
     "name": "stdout",
     "output_type": "stream",
     "text": [
      "List of Information Sources and Their Frequencies:\n",
      "Source\n",
      "Financial Consultants       16\n",
      "Newspapers and Magazines    14\n",
      "Television                   6\n",
      "Internet                     4\n",
      "Name: count, dtype: int64\n"
     ]
    }
   ],
   "source": [
    "information_sources_counts = df[information_sources_column].value_counts()\n",
    "print(\"List of Information Sources and Their Frequencies:\")\n",
    "print(information_sources_counts)"
   ]
  },
  {
   "cell_type": "markdown",
   "metadata": {},
   "source": [
    "## **Task 8 : Investment duration**\n",
    "---\n",
    "**Analyze Investment Duration Column:** Examine the column containing information about participants' investment durations."
   ]
  },
  {
   "cell_type": "code",
   "execution_count": 42,
   "metadata": {},
   "outputs": [
    {
     "name": "stdout",
     "output_type": "stream",
     "text": [
      "Investment Duration Distribution:\n",
      "Duration\n",
      "3-5 years            19\n",
      "1-3 years            18\n",
      "Less than 1 year      2\n",
      "More than 5 years     1\n",
      "Name: count, dtype: int64\n"
     ]
    }
   ],
   "source": [
    "investment_duration_column = 'Duration'\n",
    "investment_duration_counts = df[investment_duration_column].value_counts()\n",
    "print(\"Investment Duration Distribution:\")\n",
    "print(investment_duration_counts)"
   ]
  },
  {
   "cell_type": "markdown",
   "metadata": {},
   "source": [
    "**Calculate Average Duration:** Use appropriate statistical methods to calculate the average investment duration."
   ]
  },
  {
   "cell_type": "code",
   "execution_count": 43,
   "metadata": {},
   "outputs": [
    {
     "name": "stdout",
     "output_type": "stream",
     "text": [
      "Average Investment Duration: 2.98 years\n"
     ]
    }
   ],
   "source": [
    "investment_duration_column = 'Duration'\n",
    "duration_mapping = {\n",
    "    'Less than 1 year': 0.5,\n",
    "    '1-3 years': 2,\n",
    "    '3-5 years': 4,\n",
    "    'More than 5 years': 6\n",
    "}\n",
    "df['Duration_Numerical'] = df[investment_duration_column].map(duration_mapping)\n",
    "average_duration = df['Duration_Numerical'].mean()\n",
    "print(f\"Average Investment Duration: {average_duration:.2f} years\")"
   ]
  },
  {
   "cell_type": "markdown",
   "metadata": {},
   "source": [
    "## **Task 9 : Expectations from Investments**\n",
    "---\n",
    "**Explore Expectations Column:** Review the column where participants provided information about their expectations."
   ]
  },
  {
   "cell_type": "code",
   "execution_count": 44,
   "metadata": {},
   "outputs": [
    {
     "name": "stdout",
     "output_type": "stream",
     "text": [
      "Expectations Summary:\n",
      "Total Entries: 40\n",
      "Missing Values: 0\n",
      "Unique Values: ['20%-30%', '30%-40%', '10%-20%']\n",
      "\n",
      "Value Counts and Percentages:\n",
      "Expect\n",
      "20%-30%    80.0\n",
      "30%-40%    12.5\n",
      "10%-20%     7.5\n",
      "Name: count, dtype: float64\n"
     ]
    }
   ],
   "source": [
    "expect_column = df[\"Expect\"]\n",
    "summary = expect_column.value_counts()\n",
    "total = len(expect_column)\n",
    "missing = expect_column.isnull().sum()\n",
    "print(\"Expectations Summary:\")\n",
    "print(f\"Total Entries: {total}\")\n",
    "print(f\"Missing Values: {missing}\")\n",
    "print(f\"Unique Values: {list(summary.index)}\")\n",
    "print(\"\\nValue Counts and Percentages:\")\n",
    "print((summary / total * 100).round(2))"
   ]
  },
  {
   "cell_type": "markdown",
   "metadata": {},
   "source": [
    "**List and Describe Expectations:** Create a list and describe the common expectations mentioned by participants."
   ]
  },
  {
   "cell_type": "code",
   "execution_count": 45,
   "metadata": {},
   "outputs": [
    {
     "name": "stdout",
     "output_type": "stream",
     "text": [
      "List of Common Expectations:\n",
      "20%-30%' is mentioned by 32 participants (80.00%).\n",
      "30%-40%' is mentioned by 5 participants (12.50%).\n",
      "10%-20%' is mentioned by 3 participants (7.50%).\n"
     ]
    }
   ],
   "source": [
    "print(\"List of Common Expectations:\")\n",
    "for expectation, count in summary.items():\n",
    "    percentage = (count / total) * 100\n",
    "    print(f\"{expectation}' is mentioned by {count} participants ({percentage:.2f}%).\")"
   ]
  },
  {
   "cell_type": "markdown",
   "metadata": {},
   "source": [
    "## **Task 10 : Correlation Analysis**\n",
    "---\n",
    "**Select Relevant Columns:** Identify columns such as age, investment duration, and expected returns for correlation analysis."
   ]
  },
  {
   "cell_type": "code",
   "execution_count": 46,
   "metadata": {},
   "outputs": [
    {
     "name": "stdout",
     "output_type": "stream",
     "text": [
      "Selected Columns for Correlation Analysis:\n",
      "   age           Duration   Expect\n",
      "0   34          1-3 years  20%-30%\n",
      "1   23  More than 5 years  20%-30%\n",
      "2   30          3-5 years  20%-30%\n",
      "3   22   Less than 1 year  10%-20%\n",
      "4   24   Less than 1 year  20%-30%\n"
     ]
    }
   ],
   "source": [
    "relevant_columns = df[[\"age\", \"Duration\", \"Expect\"]]\n",
    "print(\"Selected Columns for Correlation Analysis:\")\n",
    "print(relevant_columns.head())"
   ]
  },
  {
   "cell_type": "markdown",
   "metadata": {},
   "source": [
    "**Use Statistical Methods or Visualizations:** Employ statistical methods (e.g. correlation coefficients) or visualizations (e.g., scatter plots) to explore and visualize potential correlations."
   ]
  },
  {
   "cell_type": "code",
   "execution_count": 47,
   "metadata": {},
   "outputs": [
    {
     "name": "stdout",
     "output_type": "stream",
     "text": [
      "Correlation Coefficients:\n",
      "              age  Duration  Expect\n",
      "age       1.00000  -0.27579     NaN\n",
      "Duration -0.27579   1.00000     NaN\n",
      "Expect        NaN       NaN     NaN\n"
     ]
    },
    {
     "data": {
      "image/png": "[encoded data removed]",
      "text/plain": [
       "<Figure size 750x750 with 12 Axes>"
      ]
     },
     "metadata": {},
     "output_type": "display_data"
    }
   ],
   "source": [
    "relevant_data = df[[\"age\", \"Duration\", \"Expect\"]].copy()\n",
    "relevant_data[\"Duration\"] = relevant_data[\"Duration\"].astype(\"category\").cat.codes\n",
    "relevant_data[\"Expect\"] = relevant_data[\"Expect\"].str.extract(r'(\\d+)-(\\d+)%').astype(float).mean(axis=1)\n",
    "correlation_matrix = relevant_data.corr()\n",
    "print(\"Correlation Coefficients:\")\n",
    "print(correlation_matrix)\n",
    "sns.pairplot(relevant_data)\n",
    "plt.suptitle(\"Scatter Plots for Relevant Columns\", y=1.02)\n",
    "plt.show()"
   ]
  },
  {
   "cell_type": "code",
   "execution_count": null,
   "metadata": {},
   "outputs": [],
   "source": []
  }
 ],
 "metadata": {
  "kernelspec": {
   "display_name": "Python 3",
   "language": "python",
   "name": "python3"
  },
  "language_info": {
   "codemirror_mode": {
    "name": "ipython",
    "version": 3
   },
   "file_extension": ".py",
   "mimetype": "text/x-python",
   "name": "python",
   "nbconvert_exporter": "python",
   "pygments_lexer": "ipython3",
   "version": "3.12.4"
  }
 },
 "nbformat": 4,
 "nbformat_minor": 2
}
